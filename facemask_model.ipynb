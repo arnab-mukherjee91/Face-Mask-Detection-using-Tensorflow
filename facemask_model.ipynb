{
  "nbformat": 4,
  "nbformat_minor": 0,
  "metadata": {
    "colab": {
      "provenance": []
    },
    "kernelspec": {
      "name": "python3",
      "display_name": "Python 3"
    },
    "language_info": {
      "name": "python"
    },
    "accelerator": "GPU"
  },
  "cells": [
    {
      "cell_type": "code",
      "execution_count": null,
      "metadata": {
        "id": "ciuklpqoioUl"
      },
      "outputs": [],
      "source": [
        "# import the necessary packages\n",
        "from tensorflow.keras.preprocessing.image import ImageDataGenerator\n",
        "from tensorflow.keras.applications import MobileNetV2\n",
        "from tensorflow.keras.layers import AveragePooling2D\n",
        "from tensorflow.keras.layers import Dropout\n",
        "from tensorflow.keras.layers import Flatten\n",
        "from tensorflow.keras.layers import Dense\n",
        "from tensorflow.keras.layers import Input\n",
        "from tensorflow.keras.models import Model\n",
        "from tensorflow.keras.optimizers import Adam\n",
        "from tensorflow.keras.applications.mobilenet_v2 import preprocess_input\n",
        "from tensorflow.keras.preprocessing.image import img_to_array\n",
        "from tensorflow.keras.preprocessing.image import load_img\n",
        "from tensorflow.keras.utils import to_categorical\n",
        "from sklearn.preprocessing import LabelBinarizer\n",
        "from sklearn.model_selection import train_test_split\n",
        "from sklearn.metrics import classification_report\n",
        "from imutils import paths\n",
        "import matplotlib.pyplot as plt\n",
        "import numpy as np\n",
        "import os"
      ]
    },
    {
      "cell_type": "code",
      "source": [
        "from tensorflow.keras.layers import MaxPooling2D"
      ],
      "metadata": {
        "id": "VDYkoMIcsumo"
      },
      "execution_count": null,
      "outputs": []
    },
    {
      "cell_type": "code",
      "source": [
        "from google.colab import drive\n",
        "drive.mount('/content/gdrive')\n",
        "\n",
        "list_dir = '/content/gdrive/My Drive/Group_Project/Face-Mask-Detection-main_UnzippedFiles/Face-Mask-Detection-main'"
      ],
      "metadata": {
        "colab": {
          "base_uri": "https://localhost:8080/"
        },
        "id": "F1J8O5GnjMJn",
        "outputId": "774926cf-d49f-4416-a77c-4db0d9d2444d"
      },
      "execution_count": null,
      "outputs": [
        {
          "output_type": "stream",
          "name": "stdout",
          "text": [
            "Drive already mounted at /content/gdrive; to attempt to forcibly remount, call drive.mount(\"/content/gdrive\", force_remount=True).\n"
          ]
        }
      ]
    },
    {
      "cell_type": "code",
      "source": [
        "# initialize the initial learning rate, number of epochs to train for,\n",
        "# and batch size\n",
        "# we applied less learning rate because less learning rate means loss will be calculated properly.\n",
        "INIT_LR = 0.0001\n",
        "EPOCHS = 15\n",
        "BS = 32"
      ],
      "metadata": {
        "id": "jnwgN4Kliz0l"
      },
      "execution_count": null,
      "outputs": []
    },
    {
      "cell_type": "code",
      "source": [
        "\n",
        "DIRECTORY = (f\"{list_dir}/dataset1/experiements/data\")\n",
        "CATEGORIES = [\"with_mask\", \"without_mask\"]"
      ],
      "metadata": {
        "id": "5Kt7THTfi3Et"
      },
      "execution_count": null,
      "outputs": []
    },
    {
      "cell_type": "code",
      "source": [
        "# grab the list of images in our dataset directory, then initialize\n",
        "# the list of data (i.e., images) and class images\n",
        "print(\"[INFO] loading images...\")"
      ],
      "metadata": {
        "colab": {
          "base_uri": "https://localhost:8080/"
        },
        "id": "indFuMHVi8JK",
        "outputId": "485d43c8-a903-45bf-faf5-8270cc216689"
      },
      "execution_count": null,
      "outputs": [
        {
          "output_type": "stream",
          "name": "stdout",
          "text": [
            "[INFO] loading images...\n"
          ]
        }
      ]
    },
    {
      "cell_type": "code",
      "source": [
        "data = []\n",
        "labels = []"
      ],
      "metadata": {
        "id": "qZCZOy9njAM5"
      },
      "execution_count": null,
      "outputs": []
    },
    {
      "cell_type": "code",
      "source": [
        "# withmask and without mask images will append to data array and categories will append to labels array\n",
        "for category in CATEGORIES:\n",
        "    path = os.path.join(DIRECTORY, category)\n",
        "    for img in os.listdir(path):\n",
        "    \timg_path = os.path.join(path, img)\n",
        "    \timage = load_img(img_path, target_size=(224, 224)) #all images will be 224 x 224\n",
        "    \timage = img_to_array(image) #images to array using imagetoarray function\n",
        "    \timage = preprocess_input(image) # mobileNet used for model so, we used preprocess_input fuction\n",
        "\n",
        "    \tdata.append(image)\n",
        "    \tlabels.append(category) #with_mask and without_mask"
      ],
      "metadata": {
        "id": "pQI0qqFSjDEU"
      },
      "execution_count": null,
      "outputs": []
    },
    {
      "cell_type": "code",
      "source": [
        "# data is numerical values, but labels are alphbetic variables, withmask and withoutmask.\n",
        "# We should convert them to numerical values by using LabelBinarizer() method. that comes from the sklearn.Preprocesser model\n",
        "\n",
        "# perform one-hot encoding on the labels\n",
        "lb = LabelBinarizer()\n",
        "labels = lb.fit_transform(labels)\n",
        "labels = to_categorical(labels)\n",
        "# we converted them into numerical ones (0 , 1 ...)"
      ],
      "metadata": {
        "id": "_5N1ZQZPnYdq"
      },
      "execution_count": null,
      "outputs": []
    },
    {
      "cell_type": "code",
      "source": [
        "# we need to convert them\n",
        "data = np.array(data, dtype=\"float32\")\n",
        "labels = np.array(labels)\n",
        "\n",
        "#train & test data 0.2 for testing and 0.8 for training\n",
        "(trainX, testX, trainY, testY) = train_test_split(data, labels,\n",
        "\ttest_size=0.20, stratify=labels, random_state=42)"
      ],
      "metadata": {
        "id": "an83wsTPnifP"
      },
      "execution_count": null,
      "outputs": []
    },
    {
      "cell_type": "code",
      "source": [
        "# construct the training image generator for data augmentation\n",
        "# ImageDataGenerator() creates many images from single image\n",
        "# by changing some of the properties like rotating, shifting etc.\n",
        "aug = ImageDataGenerator(\n",
        "\trotation_range=20,\n",
        "\tzoom_range=0.15,\n",
        "\twidth_shift_range=0.2,\n",
        "\theight_shift_range=0.2,\n",
        "\tshear_range=0.15,\n",
        "\thorizontal_flip=True,\n",
        "\tfill_mode=\"nearest\")"
      ],
      "metadata": {
        "id": "xYbhZzODnmHe"
      },
      "execution_count": null,
      "outputs": []
    },
    {
      "cell_type": "code",
      "source": [
        "# load the MobileNetV2 network, ensuring the head FC layer sets are left off\n",
        "baseModel = MobileNetV2(weights=\"imagenet\", include_top=False,\n",
        "\tinput_tensor=Input(shape=(224, 224, 3))) #it means height 224, weight 224, \\and 3 channels R,G & B"
      ],
      "metadata": {
        "colab": {
          "base_uri": "https://localhost:8080/"
        },
        "id": "v6KuLKhFnqSR",
        "outputId": "3cffdd3e-57ad-46b8-a893-22a1b33c2647"
      },
      "execution_count": null,
      "outputs": [
        {
          "output_type": "stream",
          "name": "stdout",
          "text": [
            "WARNING:tensorflow:`input_shape` is undefined or non-square, or `rows` is not in [96, 128, 160, 192, 224]. Weights for input shape (224, 224) will be loaded as the default.\n"
          ]
        }
      ]
    },
    {
      "cell_type": "code",
      "source": [
        "# construct the head of the model that will be placed on top of the\n",
        "# the base model\n",
        "\n",
        "headModel = baseModel.output\n",
        "headModel = MaxPooling2D(pool_size=(6, 6))(headModel) #creating the pooling 7 by 7\n",
        "headModel = Flatten(name=\"flatten\")(headModel) #doing flatten this layers\n",
        "headModel = Dense(128, activation=\"relu\")(headModel) # dense layer and relu is non-linear use cases.\n",
        "headModel = Dropout(0.5)(headModel) #dropout for avoiding\n",
        "headModel = Dense(2, activation=\"softmax\")(headModel)"
      ],
      "metadata": {
        "id": "u6kDSnTznvOq"
      },
      "execution_count": null,
      "outputs": []
    },
    {
      "cell_type": "code",
      "source": [
        "# place the head FC model on top of the base model (this will become\n",
        "# the actual model we will train)\n",
        "model = Model(inputs=baseModel.input, outputs=headModel)"
      ],
      "metadata": {
        "id": "HextKbRzn1up"
      },
      "execution_count": null,
      "outputs": []
    },
    {
      "cell_type": "code",
      "source": [
        "# loop over all layers in the base model and freeze them so they will\n",
        "# *not* be updated during the first training process\n",
        "for layer in baseModel.layers:\n",
        "\tlayer.trainable = True"
      ],
      "metadata": {
        "id": "6Dc8MYS-n5y2"
      },
      "execution_count": null,
      "outputs": []
    },
    {
      "cell_type": "code",
      "source": [
        "# compile our model\n",
        "print(\"[INFO] compiling model...\")\n",
        "opt = Adam(lr=INIT_LR, decay=INIT_LR / EPOCHS)\n",
        "model.compile(loss=\"binary_crossentropy\", optimizer=opt,\n",
        "\tmetrics=[\"accuracy\"])"
      ],
      "metadata": {
        "colab": {
          "base_uri": "https://localhost:8080/"
        },
        "id": "cDj9rfF-n8jf",
        "outputId": "254779c3-6641-4908-8af4-eafcb60075e3"
      },
      "execution_count": null,
      "outputs": [
        {
          "output_type": "stream",
          "name": "stdout",
          "text": [
            "[INFO] compiling model...\n"
          ]
        },
        {
          "output_type": "stream",
          "name": "stderr",
          "text": [
            "/usr/local/lib/python3.7/dist-packages/keras/optimizer_v2/adam.py:105: UserWarning: The `lr` argument is deprecated, use `learning_rate` instead.\n",
            "  super(Adam, self).__init__(name, **kwargs)\n"
          ]
        }
      ]
    },
    {
      "cell_type": "code",
      "source": [
        "# train the head of the network\n",
        "print(\"[INFO] training head...\")\n",
        "H = model.fit(\n",
        "\taug.flow(trainX, trainY, batch_size=BS),\n",
        "\tsteps_per_epoch=len(trainX) // BS,\n",
        "\tvalidation_data=(testX, testY),\n",
        "\tvalidation_steps=len(testX) // BS,\n",
        "\tepochs=EPOCHS)"
      ],
      "metadata": {
        "colab": {
          "base_uri": "https://localhost:8080/"
        },
        "id": "6GHZTrQloAx5",
        "outputId": "986e28d8-cbbc-4cf8-b8f2-dc5e6364a95b"
      },
      "execution_count": null,
      "outputs": [
        {
          "output_type": "stream",
          "name": "stdout",
          "text": [
            "[INFO] training head...\n",
            "Epoch 1/15\n",
            "34/34 [==============================] - 23s 447ms/step - loss: 1.4217 - accuracy: 0.8839 - val_loss: 6.5650 - val_accuracy: 0.5000\n",
            "Epoch 2/15\n",
            "34/34 [==============================] - 13s 390ms/step - loss: 0.0779 - accuracy: 0.9738 - val_loss: 11.3916 - val_accuracy: 0.5000\n",
            "Epoch 3/15\n",
            "34/34 [==============================] - 14s 397ms/step - loss: 0.0979 - accuracy: 0.9779 - val_loss: 7.4682 - val_accuracy: 0.5000\n",
            "Epoch 4/15\n",
            "34/34 [==============================] - 14s 409ms/step - loss: 0.0552 - accuracy: 0.9850 - val_loss: 8.3923 - val_accuracy: 0.5000\n",
            "Epoch 5/15\n",
            "34/34 [==============================] - 13s 385ms/step - loss: 0.2064 - accuracy: 0.9522 - val_loss: 2.1302 - val_accuracy: 0.5000\n",
            "Epoch 6/15\n",
            "34/34 [==============================] - 13s 386ms/step - loss: 0.1409 - accuracy: 0.9494 - val_loss: 6.7965 - val_accuracy: 0.5000\n",
            "Epoch 7/15\n",
            "34/34 [==============================] - 13s 389ms/step - loss: 0.2234 - accuracy: 0.9242 - val_loss: 0.7481 - val_accuracy: 0.5000\n",
            "Epoch 8/15\n",
            "34/34 [==============================] - 13s 392ms/step - loss: 0.0951 - accuracy: 0.9597 - val_loss: 6.2608 - val_accuracy: 0.5000\n",
            "Epoch 9/15\n",
            "34/34 [==============================] - 13s 394ms/step - loss: 0.0780 - accuracy: 0.9719 - val_loss: 7.1064 - val_accuracy: 0.5000\n"
          ]
        }
      ]
    },
    {
      "cell_type": "code",
      "source": [
        "# make predictions on the testing set\n",
        "print(\"[INFO] evaluating network...\")\n",
        "predIdxs = model.predict(testX, batch_size=BS)"
      ],
      "metadata": {
        "id": "75Qr3oQloHlE"
      },
      "execution_count": null,
      "outputs": []
    },
    {
      "cell_type": "code",
      "source": [
        "# for each image in the testing set we need to find the index of the\n",
        "# label with corresponding largest predicted probability\n",
        "predIdxs = np.argmax(predIdxs, axis=1)"
      ],
      "metadata": {
        "id": "qMItS9UuyY2f"
      },
      "execution_count": null,
      "outputs": []
    },
    {
      "cell_type": "code",
      "source": [
        "# show a nicely formatted classification report\n",
        "print(classification_report(testY.argmax(axis=1), predIdxs,\n",
        "\ttarget_names=lb.classes_))"
      ],
      "metadata": {
        "id": "91Ijyz6DygFU"
      },
      "execution_count": null,
      "outputs": []
    },
    {
      "cell_type": "code",
      "source": [
        "# serialize the model to disk\n",
        "print(\"[INFO] saving mask detector model...\")\n",
        "model.save(\"mask_detector.model\", save_format=\"h5\")\n"
      ],
      "metadata": {
        "id": "t7kkJLIPykrf"
      },
      "execution_count": null,
      "outputs": []
    },
    {
      "cell_type": "code",
      "source": [
        "# plot the training loss and accuracy\n",
        "N = EPOCHS\n",
        "plt.style.use(\"ggplot\")\n",
        "plt.figure()\n",
        "plt.plot(np.arange(0, N), H.history[\"loss\"], label=\"train_loss\")\n",
        "plt.plot(np.arange(0, N), H.history[\"val_loss\"], label=\"val_loss\")\n",
        "plt.plot(np.arange(0, N), H.history[\"accuracy\"], label=\"train_acc\")\n",
        "plt.plot(np.arange(0, N), H.history[\"val_accuracy\"], label=\"val_acc\")\n",
        "plt.title(\"Training Loss and Accuracy\")\n",
        "plt.xlabel(\"Epoch #\")\n",
        "plt.ylabel(\"Loss/Accuracy\")\n",
        "plt.legend(loc=\"lower left\")\n",
        "plt.savefig(\"plot.png\")"
      ],
      "metadata": {
        "id": "mPBpG9lSyoUB"
      },
      "execution_count": null,
      "outputs": []
    }
  ]
}
